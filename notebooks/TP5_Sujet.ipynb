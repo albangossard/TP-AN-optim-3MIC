{
 "cells": [
  {
   "cell_type": "markdown",
   "metadata": {},
   "source": [
    "# Intégration numérique"
   ]
  },
  {
   "cell_type": "markdown",
   "metadata": {},
   "source": [
    "### Importation de packages pour Python"
   ]
  },
  {
   "cell_type": "code",
   "execution_count": 1,
   "metadata": {
    "collapsed": true
   },
   "outputs": [],
   "source": [
    "%matplotlib inline\n",
    "import matplotlib.pyplot as plt\n",
    "import numpy as np"
   ]
  },
  {
   "cell_type": "markdown",
   "metadata": {},
   "source": [
    "## Les méthodes d'intégration numérique"
   ]
  },
  {
   "cell_type": "markdown",
   "metadata": {},
   "source": [
    "Soient $a$ et $b$ deux réels tels que $a < b$ et $f$ une fonction continue sur $[a,b]$. Le but de ce TP est d'implémenter les méthodes d'intégration vu en cours: la méthode des rectangles, la méthode du point milieu, la méthode des trapèzes et la méthode de Simpson. Ces méthodes donnent une approximation de l'intégrale\n",
    "$$\n",
    "I(f,a,b) = \\int_a^b f(x)dx.\n",
    "$$\n",
    "On s'intéressera en particulier aux erreurs d'approximation obtenues.\n",
    "\n",
    "L'intégration numérique se fera sur l'intervalle $[a,b]$, que l'on discrétise comme une suite de sous-intervalles $[x_{j-1},x_j]$ dont la longueur est uniforme. En particulier, pour tout $n\\geq 1$, on pose\n",
    "$$\n",
    "x_j = a + j\\frac{b-a} n = a + jh, \\quad 0\\leq j\\leq n,\n",
    "$$\n",
    "où l'on note $h = \\frac{b-a}n$.\n",
    "\n",
    "Afin de tester les méthodes, on utilisera l'intégrale continue suivante, dont on calcule explicitement la valeur,\n",
    "$$\n",
    "I_e = \\int_a^b\\cos(x) dx = \\left[ \\sin(x) \\right]^b_a = \\sin(b) - \\sin(a).\n",
    "$$"
   ]
  },
  {
   "cell_type": "code",
   "execution_count": 2,
   "metadata": {
    "collapsed": true
   },
   "outputs": [],
   "source": [
    "def f_ex(x):\n",
    "    pass\n",
    "def g_ex(x):\n",
    "    pass"
   ]
  },
  {
   "cell_type": "markdown",
   "metadata": {},
   "source": [
    "### Méthode des rectangles\n",
    "\n",
    "La méthodes des rectangles consiste à utiliser la formule suivante d'approximation de l'intégrale $I(f,a,b)$\n",
    "$$\n",
    "I_{n,\\textrm{Rect},1}(f,a,b) =  \\dfrac{b-a}{n}\\sum_{j = 1}^{n} f(x_{j-1}),\n",
    "$$\n",
    "pour les rectangles à gauche, et\n",
    "$$\n",
    "I_{n,\\textrm{Rect},2}(f,a,b) =  \\dfrac{b-a}{n}\\sum_{j = 1}^{n} f(x_{j}),\n",
    "$$\n",
    "pour les rectangles à droite."
   ]
  },
  {
   "cell_type": "markdown",
   "metadata": {},
   "source": [
    ">**A faire :** Écrire une fonction **Rect** qui prendra en argument d'entrée la fonction $f$ dont on veut calculer l'intégrale numérique, les scalaires $a$ et $b$ correspondant aux bornes de l'intégrale et enfin l'entier $n$ qui correspond aux nombres de sous-intervalles. La fonction devra rendre l'approximation de l'intégrale à l'aide de la méthode des rectangles à gauche et à droite. On testera cette fonction en approximant $I_e$ avec $a=0$, $b=2$ et $n = 10$."
   ]
  },
  {
   "cell_type": "code",
   "execution_count": 1,
   "metadata": {},
   "outputs": [],
   "source": [
    "def Rect(f,a,b,n):\n",
    "    pass"
   ]
  },
  {
   "cell_type": "markdown",
   "metadata": {},
   "source": [
    "### Méthode du point milieu"
   ]
  },
  {
   "cell_type": "markdown",
   "metadata": {},
   "source": [
    "La méthodes du point milieu consiste à utiliser la formule suivante d'approximation de l'intégrale $I(f,a,b)$\n",
    "$$\n",
    "I_{n,\\textrm{Milieu}}(f,a,b) =  \\dfrac{b-a}{n}\\sum_{j = 1}^{n} f(x_{j-1/2}),\n",
    "$$\n",
    "où l'on note\n",
    "$$\n",
    "x_{j-1/2} = \\frac{x_{j-1} + x_j}2.\n",
    "$$\n",
    "\n",
    ">**A faire :** Écrire une fonction **Milieu** qui prendra en argument d'entrée la fonction $f$ dont on veut calculer l'intégrale numérique, les scalaires $a$ et $b$ correspondant aux bornes de l'intégrale et enfin l'entier $n$ qui correspond aux nombres de sous-intervalles. La fonction devra rendre l'approximation de l'intégrale à l'aide de la méthode du point milieu. On testera cette fonction en approximant $I_e$ avec $a=0$, $b=2$ et $n = 10$."
   ]
  },
  {
   "cell_type": "code",
   "execution_count": 4,
   "metadata": {},
   "outputs": [
    {
     "name": "stdout",
     "output_type": "stream",
     "text": [
      "Valeur exacte de l'intégrale =  0.909297426826\n",
      "Méthode du milieu =  0.910814692482\n",
      "Erreur sur la méthode du milieu = 0.00151726565592\n"
     ]
    }
   ],
   "source": [
    "def Milieu(f,a,b,n):\n",
    "    pass"
   ]
  },
  {
   "cell_type": "markdown",
   "metadata": {},
   "source": [
    "### Méthode des trapèzes"
   ]
  },
  {
   "cell_type": "markdown",
   "metadata": {},
   "source": [
    "La méthodes des trapèzes consiste à utiliser la formule suivante d'approximation de l'intégrale $I(f,a,b)$\n",
    "$$\n",
    "I_{n,\\textrm{Trapèzes}}(f,a,b) =  \\dfrac{b-a}{n}\\sum_{j = 1}^{n} \\frac{f(x_{j-1}) + f(x_{j})}2,\n",
    "$$\n",
    "que l'on peut encore écrire\n",
    "$$\n",
    "I_{n,\\textrm{Trapèzes}}(f,a,b) = \\frac12\\left(I_{n,\\textrm{Rect},1}(f,a,b) + I_{n,\\textrm{Rect},2}(f,a,b) \\right).\n",
    "$$\n",
    "\n",
    ">**A faire :** Écrire une fonction **Trapezes** qui prendra en argument d'entrée la fonction $f$ dont on veut calculer l'intégrale numérique, les scalaires $a$ et $b$ correspondant aux bornes de l'intégrale et enfin l'entier $n$ qui correspond aux nombres de sous-intervalles. La fonction devra rendre l'approximation de l'intégrale à l'aide de la méthode des trapèzes. On testera cette fonction en approximant $I_e$ avec $a=0$, $b=2$ et $n = 10$."
   ]
  },
  {
   "cell_type": "code",
   "execution_count": 2,
   "metadata": {},
   "outputs": [],
   "source": [
    "def Trapezes(f,a,b,n):\n",
    "    pass"
   ]
  },
  {
   "cell_type": "markdown",
   "metadata": {},
   "source": [
    "### Méthode de Simpson"
   ]
  },
  {
   "cell_type": "markdown",
   "metadata": {},
   "source": [
    "La méthodes du point milieu consiste à utiliser la formule suivante d'approximation de l'intégrale $I(f,a,b)$\n",
    "$$\n",
    "I_{n,\\textrm{Simpson}}(f,a,b) =  \\dfrac{b-a}{n}\\sum_{j = 1}^{n} \\frac 1 6 \\left(f(x_{j-1}) + 4 f(x_{j-1/2})+ f(x_{j}) \\right),\n",
    "$$\n",
    "que l'on peut encore écrire\n",
    "$$\n",
    "I_{n,\\textrm{Simpson}}(f,a,b) = \\frac 1 3 \\left(I_{n,\\textrm{Trapèzes}}(f,a,b)+ 2I_{n,\\textrm{Milieu}}(f,a,b)\\right).\n",
    "$$\n",
    "\n",
    ">**A faire :** Écrire une fonction **Simpson** qui prendra en argument d'entrée la fonction $f$ dont on veut calculer l'intégrale numérique, les scalaires $a$ et $b$ correspondant aux bornes de l'intégrale et enfin l'entier $n$ qui correspond aux nombres de sous-intervalles. La fonction devra rendre l'approximation de l'intégrale à l'aide de la méthode de Simpson. On testera cette fonction en approximant $I_e$ avec $a=0$, $b=2$ et $n = 10$."
   ]
  },
  {
   "cell_type": "code",
   "execution_count": 6,
   "metadata": {},
   "outputs": [
    {
     "name": "stdout",
     "output_type": "stream",
     "text": [
      "Valeur exacte de l'intégrale =  0.909297426826\n",
      "Méthode de Simpson =  0.909297932593\n",
      "Erreur sur la méthode de Simpson = 5.05767256409e-07\n"
     ]
    }
   ],
   "source": [
    "def Simpson(f,a,b,n):\n",
    "    pass"
   ]
  },
  {
   "cell_type": "markdown",
   "metadata": {
    "collapsed": true
   },
   "source": [
    "### Analyse de l'erreur d'approximation et ordre des méthodes"
   ]
  },
  {
   "cell_type": "markdown",
   "metadata": {},
   "source": [
    "On se propose à présent d'analyser l'erreur d'approximation commise par chacune des méthodes précédentes. L'analyse de cette erreur permettra notamment d'évaluer numériquement l'ordre des méthodes. On considère l'erreur d'approximation suivante\n",
    "$$\n",
    "e(n) = |I(f_{\\textrm{ex}},a,b) - I_{n,\\textrm{Méthode}}(f_{\\textrm{ex}},a,b)|,\n",
    "$$\n",
    "où $I_{n,\\textrm{Méthode}}(f,a,b)$ correspond à l'approximation de $I(f,a,b)$ obtenue avec une des méthodes que l'on a implémentées. L'ordre d'une méthode est défini comme étant le scalaire $p$ qui vérifie\n",
    "$$\n",
    "e(n) \\underset{n\\rightarrow\\infty}{\\sim} n^{-p}.\n",
    "$$\n",
    "Afin d'évaluer $p$, on va calculer\n",
    "$$ \\log(e(n)) \\underset{n\\rightarrow\\infty}{\\sim} -p\\log(n),$$\n",
    "et il suffira d'établir la pente de la courbe $(x,y) = (\\log(n),\\log(e(n))$ pour trouver $p$.\n",
    "\n",
    "\n",
    ">**A faire :** Tracer sur une même figure les courbes $(\\log(n),\\log(e(n))$ pour les différentes méthodes d'intégration avec $a = 0$, $b = 10$ et identifier les ordres des méthodes. On prendre $n$ allant de $100$ jusqu'à $1000$. On pourra utiliser la fonction **plt.loglog** pour le tracer."
   ]
  },
  {
   "cell_type": "code",
   "execution_count": 7,
   "metadata": {
    "collapsed": true
   },
   "outputs": [],
   "source": []
  },
  {
   "cell_type": "markdown",
   "metadata": {},
   "source": [
    "## Approximation de la moyenne d'un signal aléatoire"
   ]
  },
  {
   "cell_type": "markdown",
   "metadata": {},
   "source": [
    "L'objectif de cette section est d'évaluer une approximation de l'intégrale suivante\n",
    "$$\n",
    "m(t) = \\frac 1 t \\int_0^t s(\\tau)d\\tau, \\quad t\\in [0,T],\n",
    "$$\n",
    "pour $T>0$ et où $s$ est un signal aléatoire que l'on va simuler à l'aide de la fonction **Signal** ci-dessous (dont il n'est pas nécessaire de préciser les arguments d'entrée). On remarque que $T$ correspond alors à l'argument **T_max** qui est égal à 5."
   ]
  },
  {
   "cell_type": "code",
   "execution_count": 34,
   "metadata": {},
   "outputs": [
    {
     "data": {
      "text/plain": [
       "[<matplotlib.lines.Line2D at 0x10f03e990>]"
      ]
     },
     "execution_count": 34,
     "metadata": {},
     "output_type": "execute_result"
    },
    {
     "data": {
      "image/png": "[encoded data removed]",
      "text/plain": [
       "<matplotlib.figure.Figure at 0x10f148410>"
      ]
     },
     "metadata": {},
     "output_type": "display_data"
    }
   ],
   "source": [
    "def Signal(n = 2000, T_max = 5, Amp_moy = 1, Amp_sig = 1):\n",
    "    T_acquis = np.sort(np.random.uniform(0,T_max,size=n))\n",
    "    Moy = np.random.uniform(-Amp_moy,Amp_moy,size=1)\n",
    "    Sigma = np.random.uniform(0,Amp_sig,size=1)\n",
    "    return np.random.normal(Moy,Sigma,size=n), T_acquis\n",
    "\n",
    "s,T = Signal()\n",
    "plt.plot(T,s)"
   ]
  },
  {
   "cell_type": "markdown",
   "metadata": {},
   "source": [
    "Il est important de préciser que le signal est acquis en des temps qui ne sont pas uniformément répartis sur l'intervalle $[0,T]$. Il n'est donc pas envisageable d'utiliser la méthode du point milieu ou la méthode de Simpson qui requièrent d'avoir accès à une valeur intermédiaire (au milieu). On peut donc mettre en oeuvre la méthode des rectangles ou la méthode des trapèzes. Sachant que la méthode des trapèzes est plus précise, c'est cette dernière que l'on va mettre en oeuvre pour calculer l'intégrale. Dans le cas de points $(x_j)_{0\\leq j\\leq n}$ qui ne sont pas équirépartis sur $[0,T]$, la méthode des trapèzes s'écrit\n",
    "$$\n",
    "I_{n,\\textrm{Trapèzes non-équis}}(f,a,b) = \\sum_{j = 1}^{n} \\frac{f(x_{j-1}) + f(x_{j})}2 (x_j - x_{j-1}),\n",
    "$$\n",
    "\n",
    ">**A faire :** Écrire une fonction **Trapeze_Nequi** permettant de mettre en oeuvre la méthode des trapèzes pour calculer l'intégrale d'une fonction $f$ en des points qui ne sont pas équirépartis. Cette fonction prendra en argument d'entrée le vecteur $F$ tel que $F_j = f(x_j)$, pour $0\\leq j\\leq n$, ainsi que le vecteur $X$ des points $(x_j)_{0\\leq j\\leq n}$. Elle donnera en sortie une approximation de l'intégrale de $f$ sur l'intervalle $[x_0,x_n]$."
   ]
  },
  {
   "cell_type": "code",
   "execution_count": 35,
   "metadata": {
    "collapsed": true
   },
   "outputs": [],
   "source": [
    "def Trapeze_Nequi(F,X):\n",
    "    pass"
   ]
  },
  {
   "cell_type": "markdown",
   "metadata": {},
   "source": [
    ">**A faire :** Tracer, sur une même figure, le signal $s$ que vous aurez simulé ainsi $m$ que vous calculerez grâce à une approximation de l'intégrale de $s$ obtenue par la méthode des trapèzes."
   ]
  }
 ],
 "metadata": {
  "anaconda-cloud": {},
  "kernelspec": {
   "display_name": "Python 3",
   "language": "python",
   "name": "python3"
  },
  "language_info": {
   "codemirror_mode": {
    "name": "ipython",
    "version": 3
   },
   "file_extension": ".py",
   "mimetype": "text/x-python",
   "name": "python",
   "nbconvert_exporter": "python",
   "pygments_lexer": "ipython3",
   "version": "3.6.8"
  }
 },
 "nbformat": 4,
 "nbformat_minor": 1
}
