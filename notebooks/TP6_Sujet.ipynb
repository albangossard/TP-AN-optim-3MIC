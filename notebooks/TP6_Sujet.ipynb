{
 "cells": [
  {
   "cell_type": "markdown",
   "metadata": {},
   "source": [
    "# Factorisation LU\n",
    "## Sujet modifié"
   ]
  },
  {
   "cell_type": "markdown",
   "metadata": {},
   "source": [
    "Mettez ci-dessous les imports classiques de librairie Python"
   ]
  },
  {
   "cell_type": "code",
   "execution_count": null,
   "metadata": {
    "collapsed": true
   },
   "outputs": [],
   "source": [
    "%matplotlib inline\n",
    "import numpy as np\n",
    "import numpy.linalg as npl\n",
    "import matplotlib.pyplot as plt\n",
    "\n",
    "M = np.load('TP6_Matrice.npy')"
   ]
  },
  {
   "cell_type": "markdown",
   "metadata": {},
   "source": [
    "Le but de ce TP est d'implémenter la factorisation LU, avec et sans permutations, et de tester ces méthodes pour résoudre un système linéaire. Dans cette dernière partie, on implémentera un algorithme de résolution de systèmes triangulaires."
   ]
  },
  {
   "cell_type": "markdown",
   "metadata": {},
   "source": [
    "## 1) Algorithme de factorisation LU standard"
   ]
  },
  {
   "cell_type": "markdown",
   "metadata": {},
   "source": [
    "On se propose tout d'abord d'implémenter un code de factorisation LU qui prendra en entrée une matrice $A$ carré de taille quelconque et qui donnera en sortie le couple de matrice L et U correspondant à la factorisation LU de la matrice A. On rappelle que la factorisation LU s'obtient à partir de la méthode de pivot de Gauss. Plus précisément, la factorisation LU peut se résumer à l'algorithme suivant\n",
    "\n",
    "$$\n",
    "A^{(0)} = A\\in M_n(\\mathbb{R}),\\\\\n",
    "L^{(0)} = 0 \\in M_n(\\mathbb{R}),\\\\\n",
    "\\textrm{Pour}\\; k = 0,1,2,\\cdots,n-1:\\;\n",
    "\\left\\{\\begin{array}{ll}\n",
    "\\ell_i^{(k)} = \\left\\{\\begin{array}{ll}\n",
    "0,\\;\\textrm{pour}\\;0\\leq i\\leq k-1,\\\\\n",
    "\\frac{a_{i,k}^{(k)}}{a_{k,k}^{(k)}},\\;\\textrm{pour}\\;k\\leq i\\leq n-1,\n",
    "\\end{array}\\right.\\\\\n",
    "L^{(k+1)}_{i,j} = \\left\\{\\begin{array}{ll}\n",
    "\\ell^{(k)}_i,\\; \\textrm{pour}\\; j = k\\;\\textrm{et}\\; k\\leq i\\leq n-1,\n",
    "\\\\ L^{(k)}_{i,j}\\; \\textrm{sinon},\n",
    "\\end{array}\\right.\\\\\n",
    "B^{(k)}_{i,j} = \\left\\{\\begin{array}{ll}\n",
    "\\ell^{(k)}_{i} a^{(k)}_{k,j},\\; \\textrm{pour}\\; k+1\\leq i\\leq n-1 \\;\\textrm{et}\\; k\\leq j\\leq n-1,\n",
    "\\\\ 0\\; \\textrm{sinon},\n",
    "\\end{array}\\right.,\\\\\n",
    "A^{(k+1)} = A^{(k)} - B^{(k)},\\\\\n",
    "\\end{array}\\right.\n",
    "$$\n",
    "\n",
    "où\n",
    "- $\\ell^{(k)}$ est un vecteur de $\\mathbb{R}^n$,\n",
    "- $A^{(k)}$ est une matrice de $M_n(\\mathbb{R})$ dont on note les coefficients $(a^{(k)}_{i,j})_{0\\leq i,j\\leq n-1}$.\n",
    "\n",
    "A la fin de cette algorithme, on obtient $L = L^{(n-1)}$ et $U = A^{(n-1)}$."
   ]
  },
  {
   "cell_type": "markdown",
   "metadata": {},
   "source": [
    "> **A faire :** Implémenter la fonction `LU` qui permet de calculer la factorisation LU d'une matrice $A$ carré de dimension quelconque à partir de l'algorithme précédent. On prendra soin de vérifier si le pivot est non-nul et, dans le cas contraire, on renverra une erreur à l'utilisateur. On pourra tester la fonction sur la matrice\n",
    "$$\n",
    "A = \\left(\\begin{array}{ccc}\n",
    "2 & 1 & 1 \\\\\n",
    "6 & 2 & 1 \\\\\n",
    "-2 & 2 & 1\n",
    "\\end{array}\\right),\n",
    "$$\n",
    "dont la décomposition LU est donnée par\n",
    "$$\n",
    "L = \\left(\\begin{array}{ccc}\n",
    "1 & 0 & 0 \\\\\n",
    "3 & 1 & 0 \\\\\n",
    "-1 & -3 & 1\n",
    "\\end{array}\\right)\\quad\\textrm{et}\\quad U = \\left(\\begin{array}{ccc}\n",
    "2 & 1 & 1 \\\\\n",
    "0 & -1 & -2 \\\\\n",
    "0 & 0 & -4\n",
    "\\end{array}\\right).\n",
    "$$"
   ]
  },
  {
   "cell_type": "code",
   "execution_count": null,
   "metadata": {
    "collapsed": true
   },
   "outputs": [],
   "source": [
    "def LU(A):\n",
    "    return L,M"
   ]
  },
  {
   "cell_type": "code",
   "execution_count": null,
   "metadata": {},
   "outputs": [],
   "source": [
    "A = np.array([[2,1,1],[6,2,1],[-2,2,1]])\n",
    "L,U = LU(A)\n",
    "print(\"L=\",L)\n",
    "print(\"U=\",U)"
   ]
  },
  {
   "cell_type": "markdown",
   "metadata": {},
   "source": [
    "## 2) Algorithme de factorisation LU avec stratégie de pivot partiel"
   ]
  },
  {
   "cell_type": "markdown",
   "metadata": {},
   "source": [
    "On passe maintenant à la factorisation LU avec la stratégie de pivot partiel. Cette méthode met en place, durant le pivot de Gauss, des permutations sur les lignes qui permettent de diminuer les erreurs numériques et de parer au problème d'un pivot nul. Ces permutations sur les lignes vont faire en sorte que le pivot dans la méthode de Gauss est toujours le plus grand possible. En pratique, à chaque étape $k$, lors du choix du pivot, on va chercher dans la colonne $k$ le plus grand pivot (en valeur absolue) puis on va procèder à une permutation entre la ligne de ce pivot et la ligne $k$. Plus précisément, la factorisation LU avec permutations peut se résumer à l'algorithme suivant\n",
    "\n",
    "$$\n",
    "A^{(0)} = A\\in M_n(\\mathbb{R}),\\\\\n",
    "L^{(0)} = 0\\in M_n(\\mathbb{R}),\\\\\n",
    "P^{(0)} = \\textrm{Id}\\in M_n(\\mathbb{R}),\\\\\n",
    "\\textrm{Pour}\\; k = 0,1,2,\\cdots,n-1:\\;\n",
    "\\left\\{\\begin{array}{ll}\n",
    "m = \\textrm{argmax}_{k\\leq j \\leq n-1} |a_{j,k}^{(k)}|\\\\\n",
    "Q^{k,m} = \\textrm{Matrice de permutation des indices $k$ et $m$}\\\\\n",
    "P^{(k+1)} = Q^{k,m}P^{(k)},\\\\\n",
    "L^{(k+1/2)} = Q^{k,m}L^{(k)},\\\\\n",
    "A^{(k+1/2)} = Q^{k,m}A^{(k)},\\\\\n",
    "\\ell_i^{(k)} = \\left\\{\\begin{array}{ll}\n",
    "0,\\;\\textrm{pour}\\;0\\leq i\\leq k-1,\\\\\n",
    "\\frac{a_{i,k}^{(k+1/2)}}{a_{k,k}^{(k+1/2)}},\\;\\textrm{pour}\\;k\\leq i\\leq n-1,\n",
    "\\end{array}\\right.\\\\\n",
    "L^{(k+1)}_{i,j} = \\left\\{\\begin{array}{ll}\n",
    "\\ell^{(k)}_i,\\; \\textrm{pour}\\; j = k\\;\\textrm{et}\\; k\\leq i\\leq n-1,\n",
    "\\\\ L^{(k+1/2)}_{i,j}\\; \\textrm{sinon},\n",
    "\\end{array}\\right.\\\\\n",
    "B^{(k)}_{i,j} = \\left\\{\\begin{array}{ll}\n",
    "\\ell^{(k)}_{i} a^{(k+1/2)}_{k,j},\\; \\textrm{pour}\\; k+1\\leq i\\leq n-1 \\;\\textrm{et}\\; k\\leq j\\leq n-1,\n",
    "\\\\ 0\\; \\textrm{sinon},\n",
    "\\end{array}\\right.,\\\\\n",
    "A^{(k+1)} = A^{(k+1/2)} - B^{(k)},\\\\\n",
    "\\end{array}\\right.\n",
    "$$\n",
    "\n",
    "A la fin de cette algorithme, on obtient $L = L^{(n-1)}$, $U = A^{(n-1)}$ et $P = P^{(n-1)}$. La matrice de permutation n'a pas vraiment besoin d'être assemblée, on pourra simplement écrire une fonction `Permut` qui prendra en argument une matrice et le couple d'indice et donnera en sortie la matrice avec ses lignes permutées. Afin d'identifier l'indice du plus grand pivot, on pourra s'aider de la fonction `argmax`. On rappelle de plus que, pour une matrice de permutation $P$, on a\n",
    "\n",
    "$$\n",
    "P^{-1} = P^T.\n",
    "$$"
   ]
  },
  {
   "cell_type": "markdown",
   "metadata": {},
   "source": [
    "> **A faire :** Implémenter la fonction `PLU` qui permet de calculer la factorisation LU d'une matrice $A$ carré de dimension quelconque à partir de l'algorithme précédent. On prendra soin de vérifier si le pivot est non-nul et, dans le cas contraire, on renverra une erreur à l'utilisateur. On pourra tester la fonction sur la matrice\n",
    "$$\n",
    "A = \\left(\\begin{array}{ccc}\n",
    "1 & 1 & 1 & 1 \\\\\n",
    "1 & 1 & 3 & 3 \\\\\n",
    "1 & 1 & 2 & 3\\\\\n",
    "1 & 3 & 3 & 3\n",
    "\\end{array}\\right),\n",
    "$$\n",
    "dont la décomposition PLU est donnée par\n",
    "$$\n",
    "P = \\left(\\begin{array}{ccc}\n",
    "1 & 0 & 0 & 0\\\\\n",
    "0 & 0 & 0 & 1\\\\\n",
    "0 & 1 & 0 & 0\\\\\n",
    "0 & 0 & 1 & 0\n",
    "\\end{array}\\right),\\quad L = \\left(\\begin{array}{ccc}\n",
    "1 & 0 & 0 & 0\\\\\n",
    "1 & 1 & 0 & 0\\\\\n",
    "1 & 0 & 1 & 0\\\\\n",
    "1 & 0 & 1/2 & 1\n",
    "\\end{array}\\right)\\quad\\textrm{et}\\quad U = \\left(\\begin{array}{ccc}\n",
    "1 & 1 & 1 & 1\\\\\n",
    "0 & 2 & 2 & 2\\\\\n",
    "0 & 0 & 2 & 2\\\\\n",
    "0 & 0 & 0 & 1\n",
    "\\end{array}\\right).\n",
    "$$"
   ]
  },
  {
   "cell_type": "code",
   "execution_count": null,
   "metadata": {
    "collapsed": true
   },
   "outputs": [],
   "source": [
    "def Permut(A,i,j):\n",
    "    return P,L,M"
   ]
  },
  {
   "cell_type": "code",
   "execution_count": null,
   "metadata": {},
   "outputs": [],
   "source": [
    "A = np.array([[1,1,1,1],[1,1,3,3],[1,1,2,3],[1,3,3,3]])\n",
    "P,L,U = PLU(A)\n",
    "print(\"P=\",P)\n",
    "print(\"L=\",L)\n",
    "print(\"U=\",U)"
   ]
  },
  {
   "cell_type": "markdown",
   "metadata": {},
   "source": [
    "## 3) Résolution de systèmes triangulaires et comparaison des méthodes"
   ]
  },
  {
   "cell_type": "markdown",
   "metadata": {},
   "source": [
    "Nous allons à présent comparer les 2 méthodes que nous venons d'implémenter. Le but est de tester ces méthodes sur un système linéaire. Or, on sait que pour résoudre un tel système il faut passer par la résolution de systèmes triangulaires (supérieurs et inférieurs). Ainsi, avant de passer à la suite, on se propose d'implémenter une méthode permettant de résoudre un système triangulaire, qu'il soit inférieur ou supérieur.\n",
    "\n",
    "On rappelle que l'algorithme de résolution pour un système triangulaire de la forme\n",
    "\n",
    "$$\n",
    "Tx = b,\n",
    "$$\n",
    "\n",
    "s'écrit, si $T$ est triangulaire inférieure,\n",
    "\n",
    "$$\n",
    "x_0 = b_0/T_{0,0}\\\\\n",
    "\\textrm{Pour}\\; k = 1,2,3,\\cdots, n-1\\; :\n",
    "x _k = \\left(b_k - \\sum_{j = 0}^{k-1} T_{k,j} x_j\\right)/T_{k,k},\n",
    "$$\n",
    "\n",
    "et, si $T$ est triangulaire supérieure,\n",
    "\n",
    "$$\n",
    "x_{n-1} = b_{n-1}/T_{n-1,n-1}\\\\\n",
    "\\textrm{Pour}\\; k = n-2,\\cdots, 0\\; :\n",
    "x _k = \\left(b_k - \\sum_{j = k+1}^{n-1} T_{k,j} x_j\\right)/T_{k,k}.\n",
    "$$\n",
    "\n",
    "> **A faire :** Implémenter la fonction `Solve_Triang` qui permet de résoudre un système linéaire triangulaire (inférieur ou supérieur). Cette fonction prendra en entrée une matrice et un vecteur (correspondant aux données du système linéaire) ainsi qu'une variable précisant si le système est triangulaire supérieur ou inférieur et donnera en sortie un vecteur qui est la solution que l'on cherche."
   ]
  },
  {
   "cell_type": "code",
   "execution_count": null,
   "metadata": {
    "collapsed": true
   },
   "outputs": [],
   "source": [
    "def Solve_Triang(T,b,s = 0):\n",
    "    return x"
   ]
  },
  {
   "cell_type": "markdown",
   "metadata": {},
   "source": [
    "On a charger, en début de ce notebook, la matrice $M$ de taille 100. A l'aide des deux méthodes de factorisation et de la méthode de résolution d'un système triangulaire, vous allez résoudre le système linéaire\n",
    "\n",
    "$$\n",
    "Mx = b,\n",
    "$$\n",
    "\n",
    "où $b\\in\\mathbb{R}^{100}$ est tel que $b_i = 1$, pour tout $0\\leq i\\leq n-1$.\n",
    "\n",
    "> **A faire :** Résoudre le système précédent à l'aide de la factorisation LU standard et celle avec permutations. Comparer les résultats obtenus avec la solution obtenue avec `npl.solve(M,b)`. Quelle méthode donne le meilleur résultat?"
   ]
  },
  {
   "cell_type": "code",
   "execution_count": null,
   "metadata": {},
   "outputs": [],
   "source": []
  }
 ],
 "metadata": {
  "kernelspec": {
   "display_name": "Python 3",
   "language": "python",
   "name": "python3"
  },
  "language_info": {
   "codemirror_mode": {
    "name": "ipython",
    "version": 3
   },
   "file_extension": ".py",
   "mimetype": "text/x-python",
   "name": "python",
   "nbconvert_exporter": "python",
   "pygments_lexer": "ipython3",
   "version": "3.7.4"
  }
 },
 "nbformat": 4,
 "nbformat_minor": 1
}
