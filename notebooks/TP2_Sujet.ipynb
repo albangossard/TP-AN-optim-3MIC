{
 "cells": [
  {
   "cell_type": "markdown",
   "metadata": {},
   "source": [
    "# Résolution d'équations non linéaires"
   ]
  },
  {
   "cell_type": "markdown",
   "metadata": {},
   "source": [
    "Importation des packages de calcul scientifique pour Python "
   ]
  },
  {
   "cell_type": "code",
   "execution_count": null,
   "metadata": {
    "collapsed": true
   },
   "outputs": [],
   "source": [
    "import numpy as np\n",
    "import matplotlib.pyplot as plt\n",
    "% matplotlib inline"
   ]
  },
  {
   "cell_type": "markdown",
   "metadata": {},
   "source": [
    "Dans ce TP, on va mettre en oeuvre les méthodes vues en cours pour la résolution d'équations non linéaires du type\n",
    "\n",
    "$$\n",
    "F(x) = 0,\n",
    "$$\n",
    "\n",
    "où $F$ est une fonction de $\\mathbb{R}$ dans $\\mathbb{R}$. Ces méthodes sont au nombre de 3: la méthode de dichotomie, la méthode du point fixe et la méthode de Newton. Nous allons nous intéresser au cas où la fonction $F$ est donnée par\n",
    "\n",
    "$$\n",
    "F(x) = 10^{-1}x^2 - \\cos(x/2)-e^{-x/4}.\n",
    "$$"
   ]
  },
  {
   "cell_type": "markdown",
   "metadata": {},
   "source": [
    "## Graphe de $F$ et localisation grossière des racines"
   ]
  },
  {
   "cell_type": "markdown",
   "metadata": {},
   "source": [
    "Afin de se faire une idée de la fonction (et de ses racines), on se propose tout d'abord de tracer le graphe de $F$. Pour cela, on commence par implémenter la fonction $F$ qui prendra en entrée un vecteur $x$ et donnera en sortie un vecteur $y$ de même taille que $x$ et tel que, pour tout indice $k$,\n",
    "\n",
    "$$\n",
    "y_k = F(x_k).\n",
    "$$\n",
    "\n",
    "Ensuite, on trace le graphe de $F$ à l'aide de la fonction `plt.plot` sur l'intervalle $[-10,10]$ avec un millier de points.\n",
    "\n",
    "> **À faire **: Implémenter la fonction $F$ et tracer son graphe. Donner un intervalle de longueur $1$ autour de chaque racine $F$ dans l'intervalle $[-10,10]$."
   ]
  },
  {
   "cell_type": "code",
   "execution_count": null,
   "metadata": {
    "collapsed": true
   },
   "outputs": [],
   "source": [
    "def F(x):\n",
    "    return"
   ]
  },
  {
   "cell_type": "markdown",
   "metadata": {},
   "source": [
    "> **Réponse **:..."
   ]
  },
  {
   "cell_type": "markdown",
   "metadata": {},
   "source": [
    "## Méthode de dichotomie"
   ]
  },
  {
   "cell_type": "markdown",
   "metadata": {},
   "source": [
    "On passe maintenant au calcul de racines par la méthode de dichotomie. Pour cela, on va implémenter une fonction `Dichotomie` qui aura comme arguments d'entrée:\n",
    "\n",
    "- une fonction `F` dont on cherche une racine,\n",
    "- un scalaire `a` et un scalaire `b` pour définir l'intervalle initial,\n",
    "- un scalaire `eps` pour le critère d'arrêt (qui aura, par défaut, la valeur $10^{-10}$),\n",
    "- un entier `itermax` pour le nombre maximal d'itérations (qui aura, par défaut, la valeur $100$),\n",
    "\n",
    "et comme arguments de sortie:\n",
    "\n",
    "- un vecteur `X` qui contient la suite $(x_k)_{0\\leq j\\leq k}$ construite par la méthode et dont le dernier élément est l'approximation d'une racine de `F`,\n",
    "- un entier `k` correspondant au nombre total d'itérations réalisées.\n",
    "\n",
    "> **À faire **: Implémenter la méthode de la dichotomie. Tester celle-ci sur la fonction $F$ avec comme intervalle initial $[-10,10]$ puis calculer la plus grande racine de $F$ sur l'intervalle $[-10,10]$ à une précision de $10^{-12}$."
   ]
  },
  {
   "cell_type": "code",
   "execution_count": null,
   "metadata": {},
   "outputs": [],
   "source": [
    "def Dichotomie(F, a, b, eps = 1e-10, itermax = 100):\n",
    "    return X,k"
   ]
  },
  {
   "cell_type": "markdown",
   "metadata": {},
   "source": [
    "## Méthode du point fixe"
   ]
  },
  {
   "cell_type": "markdown",
   "metadata": {},
   "source": [
    "À présent, on va implémenter la méthode du point fixe. On implémentera pour cela une fonction `Point_fixe` qui aura comme arguments d'entrée:\n",
    "- une fonction `F` dont on cherche une racine,\n",
    "- une fonction `Fp` correspondant à la dérivée de `F`,\n",
    "- un scalaire `x_0` correspondant à la valeur initial de la méthode,\n",
    "- un scalaire `a` et un scalaire `b` pour définir l'intervalle où évaluer la dérivée,\n",
    "- un scalaire `eps` pour le critère d'arrêt (qui aura, par défaut, la valeur $10^{-10}$),\n",
    "- un entier `itermax` pour le nombre maximal d'itérations (qui aura, par défaut, la valeur $100$),\n",
    "\n",
    "et comme arguments de sortie:\n",
    "\n",
    "- un vecteur `X` qui contient la suite $(x_k)_{0\\leq j\\leq k}$ construite par la méthode et dont le dernier élément est l'approximation d'une racine de `F`,\n",
    "- un entier `k` correspondant au nombre total d'itérations réalisées.\n",
    "\n",
    "> **À faire **: Calculer la dérivée de la fonction $F$ et implémenter sous une fonction `Fp`. Puis implémenter la méthode du point fixe. Cette méthode peut s'écrire sous la forme suivante\n",
    "$$\n",
    "\\left\\{\\begin{array}{ll}\n",
    "x_0\\in I = [a,b]\\textrm{ tel que la racine recherchée est dans $I$ et $F$ est monotone sur $I$},\\\\\n",
    "M = \\left\\{\\begin{array}{ll}\\sup_{y\\in I} F'(y),\\textrm{ si $F$ est croissante sur $I$}\\\\\\\\inf_{y\\in I} F'(y),\\textrm{ si $F$ est décroissante sur $I$}\n",
    "\\end{array}\\right.\\\\\n",
    "x_{k+1} = x_k - \\frac{F(x_k)}{M},\\quad k\\geq 0.\n",
    "\\end{array}\\right.\n",
    "$$"
   ]
  },
  {
   "cell_type": "code",
   "execution_count": null,
   "metadata": {
    "collapsed": true
   },
   "outputs": [],
   "source": [
    "def Fp(x):\n",
    "    return\n",
    "\n",
    "def Point_fixe(F, Fp, x_0, a, b, eps = 1e-10, itermax = 100):\n",
    "    return X,k"
   ]
  },
  {
   "cell_type": "markdown",
   "metadata": {},
   "source": [
    "> **À faire **:  Ensuite, tester la méthode du point fixe sur la fonction $F$ avec comme valeur initiale $0$ et sur l'intervalle $[0,5]$."
   ]
  },
  {
   "cell_type": "code",
   "execution_count": null,
   "metadata": {
    "collapsed": true
   },
   "outputs": [],
   "source": []
  },
  {
   "cell_type": "markdown",
   "metadata": {},
   "source": [
    "## Méthode de Newton"
   ]
  },
  {
   "cell_type": "markdown",
   "metadata": {},
   "source": [
    "On passe enfin à la méthode de Newton. On implémentera pour cela une fonction `Newton` qui aura comme arguments d'entrée:\n",
    "- une fonction `F` dont on cherche une racine,\n",
    "- une fonction `Fp` qui correspond à la dérivée de `F`,\n",
    "- un scalaire `x_0` correspondant à la valeur initial de la méthode,\n",
    "- un scalaire `eps` pour le critère d'arrêt (qui aura, par défaut, la valeur $10^{-10}$),\n",
    "- un entier `itermax` pour le nombre maximal d'itérations (qui aura, par défaut, la valeur $100$),\n",
    "\n",
    "et comme arguments de sortie:\n",
    "\n",
    "- un vecteur `X` qui contient la suite $(x_k)_{0\\leq j\\leq k}$ construite par la méthode et dont le dernier élément est l'approximation d'une racine de `F`,\n",
    "- un entier `k` correspondant au nombre total d'itérations réalisées.\n",
    "\n",
    "> **À faire **: Implémenter la méthode de Newton. Tester cette dernière avec comme condition initiale $x_0 = -3$."
   ]
  },
  {
   "cell_type": "code",
   "execution_count": null,
   "metadata": {
    "collapsed": true
   },
   "outputs": [],
   "source": [
    "def Newton(F, Fp, x_0, eps = 1e-10, itermax = 100):\n",
    "    return X,k"
   ]
  },
  {
   "cell_type": "markdown",
   "metadata": {},
   "source": [
    "## Comparaison des méthodes"
   ]
  },
  {
   "cell_type": "markdown",
   "metadata": {},
   "source": [
    "Dans cette dernière section, on va comparer les méthodes et notamment la vitesse de convergence de celle-ci. Tout d'abord, on va calculer chacune des racines de $F$ avec une précision de $10^{-15}$ à l'aide de la méthode de votre choix. On note $x^*_i$ la $i$-ème racine de $F$ obtenue de cette manière. Ensuite, on va tracer l'évolution, pour chaque méthode et pour chaque racine de $F$, de l'erreur:\n",
    "\n",
    "$$\n",
    "e_n^{(k)} = \\log_{10} (|x_n-x_k^*|),\n",
    "$$\n",
    "pour $n$ allant de $0$ jusqu'au nombre total d'itérations de chaque méthode. \n",
    "\n",
    "\n",
    "> **À faire **: Tracer, pour chaque racine, l'évolution de $e_n^{(k)}$ pour chaque méthode sur un même graphique. Les conditions initiales seront $x_0 = -7, -5$ et $2$. Pour la méthode de la dichotomie, on commencera avec un intervalle de taille $1$ tel que $a$ ou $b$ est égal à $x_0$. L'évaluation du paramètre $M$ pour la méthode du point fixe se fera sur le même intervalle que l'intervalle de départ de la dichotomie. Le paramètre `eps` sera fixé à $10^{-12}$. Commenter le résultat."
   ]
  },
  {
   "cell_type": "code",
   "execution_count": null,
   "metadata": {},
   "outputs": [],
   "source": []
  }
 ],
 "metadata": {
  "kernelspec": {
   "display_name": "Python 3.6.9 64-bit ('TORCHNUFFT': conda)",
   "language": "python",
   "name": "python36964bittorchnufftconda678947319c84400cb2413cbf0d6897f0"
  },
  "language_info": {
   "codemirror_mode": {
    "name": "ipython",
    "version": 3
   },
   "file_extension": ".py",
   "mimetype": "text/x-python",
   "name": "python",
   "nbconvert_exporter": "python",
   "pygments_lexer": "ipython3",
   "version": "3.6.9"
  }
 },
 "nbformat": 4,
 "nbformat_minor": 1
}
