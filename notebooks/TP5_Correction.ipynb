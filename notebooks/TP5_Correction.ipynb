{
 "cells": [
  {
   "cell_type": "markdown",
   "metadata": {},
   "source": [
    "# Intégration numérique\n",
    "## Fiche de correction\n",
    "### Alban Gossard (gossard@insa-toulouse.fr)"
   ]
  },
  {
   "cell_type": "markdown",
   "metadata": {},
   "source": [
    "### Importation de packages pour Python"
   ]
  },
  {
   "cell_type": "code",
   "execution_count": 1,
   "metadata": {},
   "outputs": [],
   "source": [
    "%matplotlib inline\n",
    "import matplotlib.pyplot as plt\n",
    "import numpy as np"
   ]
  },
  {
   "cell_type": "markdown",
   "metadata": {},
   "source": [
    "## Les méthodes d'intégration numérique"
   ]
  },
  {
   "cell_type": "markdown",
   "metadata": {},
   "source": [
    "Soient $a$ et $b$ deux réels tels que $a < b$ et $f$ une fonction continue sur $[a,b]$. Le but de ce TP est d'implémenter les méthodes d'intégration vu en cours: la méthode des rectangles, la méthode du point milieu, la méthode des trapèzes et la méthode de Simpson. Ces méthodes donnent une approximation de l'intégrale\n",
    "$$\n",
    "I(f,a,b) = \\int_a^b f(x)dx.\n",
    "$$\n",
    "On s'intéressera en particulier aux erreurs d'approximation obtenues.\n",
    "\n",
    "L'intégration numérique se fera sur l'intervalle $[a,b]$, que l'on discrétise comme une suite de sous-intervalles $[x_{j-1},x_j]$ dont la longueur est uniforme. En particulier, pour tout $n\\geq 1$, on pose\n",
    "$$\n",
    "x_j = a + j\\frac{b-a} n = a + jh, \\quad 0\\leq j\\leq n,\n",
    "$$\n",
    "où l'on note $h = \\frac{b-a}n$.\n",
    "\n",
    "Afin de tester les méthodes, on utilisera l'intégrale continue suivante, dont on calcule explicitement la valeur,\n",
    "$$\n",
    "I_e = \\int_a^b\\cos(x) dx = \\left[ \\sin(x) \\right]^b_a = \\sin(b) - \\sin(a).\n",
    "$$"
   ]
  },
  {
   "cell_type": "code",
   "execution_count": 2,
   "metadata": {},
   "outputs": [],
   "source": [
    "def f_ex(x):\n",
    "    return np.cos(x)"
   ]
  },
  {
   "cell_type": "markdown",
   "metadata": {},
   "source": [
    "### Méthode des rectangles\n",
    "\n",
    "La méthodes des rectangles consiste à utiliser la formule suivante d'approximation de l'intégrale $I(f,a,b)$\n",
    "$$\n",
    "I_{n,\\textrm{Rect},1}(f,a,b) =  \\dfrac{b-a}{n}\\sum_{j = 1}^{n} f(x_{j-1}),\n",
    "$$\n",
    "pour les rectangles à gauche, et\n",
    "$$\n",
    "I_{n,\\textrm{Rect},2}(f,a,b) =  \\dfrac{b-a}{n}\\sum_{j = 1}^{n} f(x_{j}),\n",
    "$$\n",
    "pour les rectangles à droite."
   ]
  },
  {
   "cell_type": "markdown",
   "metadata": {},
   "source": [
    ">**A faire :** Écrire une fonction **Rect** qui prendra en argument d'entrée la fonction $f$ dont on veut calculer l'intégrale numérique, les scalaires $a$ et $b$ correspondant aux bornes de l'intégrale et enfin l'entier $n$ qui correspond aux nombres de sous-intervalles. La fonction devra rendre l'approximation de l'intégrale à l'aide de la méthode des rectangles à gauche et à droite. On testera cette fonction en approximant $I_e$ avec $a=0$, $b=2$ et $n = 10$."
   ]
  },
  {
   "cell_type": "code",
   "execution_count": 3,
   "metadata": {},
   "outputs": [],
   "source": [
    "def Rect(f,a,b,n):\n",
    "    # Renvoie les approximations de l'intégrale par la méthode des rectangles à gauche et la méthode des rectangles à droite\n",
    "    # f (type fonction): fonction à intégrer\n",
    "    # a (scalaire):      borne inférieure de l'intervalle\n",
    "    # b (scalaire):      borne supérieure de l'intervalle\n",
    "    I1=((b-a)/n)*np.sum([f(a+(j)*(b-a)/n) for j in range(n)])     # rectangle à gauche\n",
    "    I2=((b-a)/n)*np.sum([f(a+(j)*(b-a)/n) for j in range(1,n+1)]) # rectangle à droite\n",
    "    return I1, I2"
   ]
  },
  {
   "cell_type": "code",
   "execution_count": 4,
   "metadata": {},
   "outputs": [
    {
     "name": "stdout",
     "output_type": "stream",
     "text": [
      "I Rect 1 = 1.0478790964703297\n",
      "I Rect 2 = 0.7646497291609012\n",
      "I_e = 0.9092974268256817\n"
     ]
    }
   ],
   "source": [
    "a,b,n = 0.,2.,10\n",
    "I1, I2 = Rect(f_ex,a,b,n)\n",
    "Ie = np.sin(b)-np.sin(a)\n",
    "print('I Rect 1 =',I1)\n",
    "print('I Rect 2 =',I2)\n",
    "print('I_e =', Ie)"
   ]
  },
  {
   "cell_type": "markdown",
   "metadata": {},
   "source": [
    "### Méthode du point milieu"
   ]
  },
  {
   "cell_type": "markdown",
   "metadata": {},
   "source": [
    "La méthodes du point milieu consiste à utiliser la formule suivante d'approximation de l'intégrale $I(f,a,b)$\n",
    "$$\n",
    "I_{n,\\textrm{Milieu}}(f,a,b) =  \\dfrac{b-a}{n}\\sum_{j = 1}^{n} f(x_{j-1/2}),\n",
    "$$\n",
    "où l'on note\n",
    "$$\n",
    "x_{j-1/2} = \\frac{x_{j-1} + x_j}2.\n",
    "$$\n",
    "\n",
    ">**A faire :** Écrire une fonction **Milieu** qui prendra en argument d'entrée la fonction $f$ dont on veut calculer l'intégrale numérique, les scalaires $a$ et $b$ correspondant aux bornes de l'intégrale et enfin l'entier $n$ qui correspond aux nombres de sous-intervalles. La fonction devra rendre l'approximation de l'intégrale à l'aide de la méthode du point milieu. On testera cette fonction en approximant $I_e$ avec $a=0$, $b=2$ et $n = 10$."
   ]
  },
  {
   "cell_type": "code",
   "execution_count": 5,
   "metadata": {},
   "outputs": [],
   "source": [
    "def Milieu(f,a,b,n):\n",
    "    # Renvoie l'approximation de l'intégrale par la méthode du point milieu\n",
    "    # f (type fonction): fonction à intégrer\n",
    "    # a (scalaire):      borne inférieure de l'intervalle\n",
    "    # b (scalaire):      borne supérieure de l'intervalle\n",
    "    return ((b-a)/n)*np.sum([f((a+(j)*(b-a)/n + a+(j+1)*(b-a)/n)/2.) for j in range(n)])"
   ]
  },
  {
   "cell_type": "code",
   "execution_count": 6,
   "metadata": {},
   "outputs": [
    {
     "name": "stdout",
     "output_type": "stream",
     "text": [
      "Valeur exacte de l'intégrale = 0.9092974268256817\n",
      "Méthode du milieu = 0.9108146924815994\n",
      "Erreur sur la méthode du milieu = 0.001517265655917699\n"
     ]
    }
   ],
   "source": [
    "Im = Milieu(f_ex,a,b,n)\n",
    "print(\"Valeur exacte de l'intégrale =\", Ie)\n",
    "print(\"Méthode du milieu =\", Im)\n",
    "print(\"Erreur sur la méthode du milieu =\", abs(Im-Ie))"
   ]
  },
  {
   "cell_type": "markdown",
   "metadata": {},
   "source": [
    "### Méthode des trapèzes"
   ]
  },
  {
   "cell_type": "markdown",
   "metadata": {},
   "source": [
    "La méthodes des trapèzes consiste à utiliser la formule suivante d'approximation de l'intégrale $I(f,a,b)$\n",
    "$$\n",
    "I_{n,\\textrm{Trapèzes}}(f,a,b) =  \\dfrac{b-a}{n}\\sum_{j = 1}^{n} \\frac{f(x_{j-1}) + f(x_{j})}2,\n",
    "$$\n",
    "que l'on peut encore écrire\n",
    "$$\n",
    "I_{n,\\textrm{Trapèzes}}(f,a,b) = \\frac12\\left(I_{n,\\textrm{Rect},1}(f,a,b) + I_{n,\\textrm{Rect},2}(f,a,b) \\right).\n",
    "$$\n",
    "\n",
    ">**A faire :** Écrire une fonction **Trapezes** qui prendra en argument d'entrée la fonction $f$ dont on veut calculer l'intégrale numérique, les scalaires $a$ et $b$ correspondant aux bornes de l'intégrale et enfin l'entier $n$ qui correspond aux nombres de sous-intervalles. La fonction devra rendre l'approximation de l'intégrale à l'aide de la méthode des trapèzes. On testera cette fonction en approximant $I_e$ avec $a=0$, $b=2$ et $n = 10$."
   ]
  },
  {
   "cell_type": "code",
   "execution_count": 7,
   "metadata": {},
   "outputs": [],
   "source": [
    "def Trapezes(f,a,b,n):\n",
    "    # Renvoie l'approximation de l'intégrale par la méthode des trapèzes\n",
    "    # f (type fonction): fonction à intégrer\n",
    "    # a (scalaire):      borne inférieure de l'intervalle\n",
    "    # b (scalaire):      borne supérieure de l'intervalle\n",
    "    I1,I2 = Rect(f,a,b,n)\n",
    "    return (I1+I2)/2."
   ]
  },
  {
   "cell_type": "code",
   "execution_count": 8,
   "metadata": {},
   "outputs": [
    {
     "name": "stdout",
     "output_type": "stream",
     "text": [
      "Valeur exacte de l'intégrale = 0.9092974268256817\n",
      "Méthode des trapèzes = 0.9062644128156154\n",
      "Erreur sur la méthode des trapèzes = 0.0030330140100662817\n"
     ]
    }
   ],
   "source": [
    "It = Trapezes(f_ex,a,b,n)\n",
    "print(\"Valeur exacte de l'intégrale =\", Ie)\n",
    "print(\"Méthode des trapèzes =\", It)\n",
    "print(\"Erreur sur la méthode des trapèzes =\", abs(It-Ie))"
   ]
  },
  {
   "cell_type": "markdown",
   "metadata": {},
   "source": [
    "### Méthode de Simpson"
   ]
  },
  {
   "cell_type": "markdown",
   "metadata": {},
   "source": [
    "La méthodes du point milieu consiste à utiliser la formule suivante d'approximation de l'intégrale $I(f,a,b)$\n",
    "$$\n",
    "I_{n,\\textrm{Simpson}}(f,a,b) =  \\dfrac{b-a}{n}\\sum_{j = 1}^{n} \\frac 1 6 \\left(f(x_{j-1}) + 4 f(x_{j-1/2})+ f(x_{j}) \\right),\n",
    "$$\n",
    "que l'on peut encore écrire\n",
    "$$\n",
    "I_{n,\\textrm{Simpson}}(f,a,b) = \\frac 1 3 \\left(I_{n,\\textrm{Trapèzes}}(f,a,b)+ 2I_{n,\\textrm{Milieu}}(f,a,b)\\right).\n",
    "$$\n",
    "\n",
    ">**A faire :** Écrire une fonction **Simpson** qui prendra en argument d'entrée la fonction $f$ dont on veut calculer l'intégrale numérique, les scalaires $a$ et $b$ correspondant aux bornes de l'intégrale et enfin l'entier $n$ qui correspond aux nombres de sous-intervalles. La fonction devra rendre l'approximation de l'intégrale à l'aide de la méthode de Simpson. On testera cette fonction en approximant $I_e$ avec $a=0$, $b=2$ et $n = 10$."
   ]
  },
  {
   "cell_type": "code",
   "execution_count": 9,
   "metadata": {},
   "outputs": [],
   "source": [
    "def Simpson(f,a,b,n):\n",
    "    # Renvoie l'approximation de l'intégrale par la méthode de Simpson\n",
    "    # f (type fonction): fonction à intégrer\n",
    "    # a (scalaire):      borne inférieure de l'intervalle\n",
    "    # b (scalaire):      borne supérieure de l'intervalle\n",
    "    return (1./3.)*(Trapezes(f,a,b,n)+2.*Milieu(f,a,b,n))"
   ]
  },
  {
   "cell_type": "code",
   "execution_count": 10,
   "metadata": {},
   "outputs": [
    {
     "name": "stdout",
     "output_type": "stream",
     "text": [
      "Valeur exacte de l'intégrale = 0.9092974268256817\n",
      "Méthode de Simpson = 0.9092979325929381\n",
      "Erreur sur la méthode de Simpson = 5.05767256409051e-07\n"
     ]
    }
   ],
   "source": [
    "Is = Simpson(f_ex,a,b,n)\n",
    "print(\"Valeur exacte de l'intégrale =\", Ie)\n",
    "print(\"Méthode de Simpson =\", Is)\n",
    "print(\"Erreur sur la méthode de Simpson =\", abs(Is-Ie))"
   ]
  },
  {
   "cell_type": "markdown",
   "metadata": {
    "collapsed": true
   },
   "source": [
    "### Analyse de l'erreur d'approximation et ordre des méthodes"
   ]
  },
  {
   "cell_type": "markdown",
   "metadata": {},
   "source": [
    "On se propose à présent d'analyser l'erreur d'approximation commise par chacune des méthodes précédentes. L'analyse de cette erreur permettra notamment d'évaluer numériquement l'ordre des méthodes. On considère l'erreur d'approximation suivante\n",
    "$$\n",
    "e(n) = |I(f_{\\textrm{ex}},a,b) - I_{n,\\textrm{Méthode}}(f_{\\textrm{ex}},a,b)|,\n",
    "$$\n",
    "où $I_{n,\\textrm{Méthode}}(f,a,b)$ correspond à l'approximation de $I(f,a,b)$ obtenue avec une des méthodes que l'on a implémentées. L'ordre d'une méthode est défini comme étant le scalaire $p$ qui vérifie\n",
    "$$\n",
    "e(n) \\underset{n\\rightarrow\\infty}{\\sim} n^{-p}.\n",
    "$$\n",
    "Afin d'évaluer $p$, on va calculer\n",
    "$$ \\log(e(n)) \\underset{n\\rightarrow\\infty}{\\sim} -p\\log(n),$$\n",
    "et il suffira d'établir la pente de la courbe $(x,y) = (\\log(n),\\log(e(n))$ pour trouver $p$.\n",
    "\n",
    "\n",
    ">**A faire :** Tracer sur une même figure les courbes $(\\log(n),\\log(e(n))$ pour les différentes méthodes d'intégration avec $a = 0$, $b = 10$ et identifier les ordres des méthodes. On prendre $n$ allant de $100$ jusqu'à $1000$. On pourra utiliser la fonction **plt.loglog** pour le tracer."
   ]
  },
  {
   "cell_type": "code",
   "execution_count": 11,
   "metadata": {},
   "outputs": [
    {
     "data": {
      "image/png": "[encoded data removed]",
      "text/plain": [
       "<Figure size 648x360 with 1 Axes>"
      ]
     },
     "metadata": {
      "needs_background": "light"
     },
     "output_type": "display_data"
    }
   ],
   "source": [
    "a,b=0.,10.\n",
    "list_n=np.array([100*i for i in range(1,11)])\n",
    "list_err_rect1=[]\n",
    "list_err_rect2=[]\n",
    "list_err_milieu=[]\n",
    "list_err_trapezes=[]\n",
    "list_err_simpson=[]\n",
    "Ie = np.sin(b)-np.sin(a)\n",
    "for n in list_n:\n",
    "    I1, I2 = Rect(f_ex,a,b,n)\n",
    "    Im = Milieu(f_ex,a,b,n)\n",
    "    It = Trapezes(f_ex,a,b,n)\n",
    "    Is = Simpson(f_ex,a,b,n)\n",
    "    list_err_rect1.append(abs(I1-Ie))\n",
    "    list_err_rect2.append(abs(I2-Ie))\n",
    "    list_err_milieu.append(abs(Im-Ie))\n",
    "    list_err_trapezes.append(abs(It-Ie))\n",
    "    list_err_simpson.append(abs(Is-Ie))\n",
    "plt.figure(figsize=(9,5))\n",
    "plt.loglog(list_n,list_err_rect1,label='err Rect 1')\n",
    "plt.loglog(list_n,list_err_rect2,label='err Rect 2')\n",
    "plt.loglog(list_n,list_err_milieu,label='err Milieu')\n",
    "plt.loglog(list_n,list_err_trapezes,label='err Trapèzes')\n",
    "plt.loglog(list_n,list_err_simpson,label='err Simpson')\n",
    "plt.grid(True)\n",
    "plt.legend()\n",
    "plt.show()"
   ]
  },
  {
   "cell_type": "code",
   "execution_count": 12,
   "metadata": {},
   "outputs": [
    {
     "name": "stdout",
     "output_type": "stream",
     "text": [
      "Méthode Rect 1 : p = 1.0017615874568557\n",
      "Méthode Rect 2 : p = 0.9982297527807514\n",
      "Méthode Milieu : p = 2.0001038893343708\n",
      "Méthode Trapèzes : p = 2.0000593673541767\n",
      "Méthode Simpson : p = 4.000090451356734\n"
     ]
    }
   ],
   "source": [
    "# Facultatif: on peut s'amuser à calculer les ordres des méthodes en réalisant une régression linéaire.\n",
    "# Cela consiste à chercher les paramètres d'une droite, son coefficient directeur et son ordonnée à l'origine, qui approxime le mieux possible notre courbe d'erreur.\n",
    "# On pourrait recoder un algorithme de regression linéaire (très bon exercice pour s'entraîner!) mais la classe LinearRegression permet de le faire facilement en Python.\n",
    "from sklearn.linear_model import LinearRegression\n",
    "\n",
    "# Création d'une liste de liste pour pouvoir faire une boucle facilement\n",
    "list_err_method=[list_err_rect1, list_err_rect2, list_err_milieu, list_err_trapezes, list_err_simpson]\n",
    "# Création d'une liste du nom des méthodes\n",
    "list_label_method=['Rect 1', 'Rect 2', 'Milieu', 'Trapèzes', 'Simpson']\n",
    "# Boucle sur les méthodes\n",
    "for err,label in zip(list_err_method, list_label_method):\n",
    "    # On créé une régression linéaire\n",
    "    regressor = LinearRegression()\n",
    "    # On ajuste notre régression pour qu'elle corresponde le mieux possible à nos courbes d'erreur\n",
    "    regressor.fit(np.log(list_n).reshape(-1,1), np.log(err).reshape(-1,1))\n",
    "    # On récupère le coefficient directeur de la droite\n",
    "    print('Méthode '+label+' : p =',-regressor.coef_[0,0])"
   ]
  },
  {
   "cell_type": "markdown",
   "metadata": {},
   "source": [
    "## Approximation de la moyenne d'un signal aléatoire"
   ]
  },
  {
   "cell_type": "markdown",
   "metadata": {},
   "source": [
    "L'objectif de cette section est d'évaluer une approximation de l'intégrale suivante\n",
    "$$\n",
    "m(t) = \\frac 1 t \\int_0^t s(\\tau)d\\tau, \\quad t\\in [0,T],\n",
    "$$\n",
    "pour $T>0$ et où $s$ est un signal aléatoire que l'on va simuler à l'aide de la fonction **Signal** ci-dessous (dont il n'est pas nécessaire de préciser les arguments d'entrée). On remarque que $T$ correspond alors à l'argument **T_max** qui est égal à 5."
   ]
  },
  {
   "cell_type": "code",
   "execution_count": 13,
   "metadata": {},
   "outputs": [
    {
     "data": {
      "image/png": "[encoded data removed]",
      "text/plain": [
       "<Figure size 432x288 with 1 Axes>"
      ]
     },
     "metadata": {
      "needs_background": "light"
     },
     "output_type": "display_data"
    }
   ],
   "source": [
    "def Signal(n=2000, T_max=5, Amp_moy=1, Amp_sig=1):\n",
    "    # Fonction renvoyant un array de taille n correspondant au signal aléatoire et un array de taille n correspondant aux temps t des échantillons\n",
    "    # n (entier):      nombre de valeurs de discrétisation du signal aléatoire\n",
    "    # T_max (float):   borne supérieure de l'intervalle\n",
    "    # Amp_moy (float): valeur moyenne maximale pour le signal aléatoire\n",
    "    # Amp_sig (float): valeur maximale pour l'écart type du signal aléatoire\n",
    "    # Il faut bien comprendre ici que le signal aléatoire est une gaussienne dont les paramètres sont des réalisations eux-mêmes de variables aléatoires.\n",
    "    T_acquis = np.sort(np.random.uniform(0,T_max,size=n))\n",
    "    Moy = np.random.uniform(-Amp_moy,Amp_moy,size=1)\n",
    "    Sigma = np.random.uniform(0,Amp_sig,size=1)\n",
    "    return np.random.normal(Moy,Sigma,size=n), T_acquis\n",
    "s,T = Signal()\n",
    "plt.plot(T,s)\n",
    "plt.show()\n",
    "\n",
    "# Attention: plusieurs exécution du code ne produisent pas le même résultat.\n",
    "# Ne vous étonnez donc pas de ne pas retrouver le même graphique !"
   ]
  },
  {
   "cell_type": "markdown",
   "metadata": {},
   "source": [
    "Il est important de préciser que le signal est acquis en des temps qui ne sont pas uniformément répartis sur l'intervalle $[0,T]$. Il n'est donc pas envisageable d'utiliser la méthode du point milieu ou la méthode de Simpson qui requièrent d'avoir accès à une valeur intermédiaire (au milieu). On peut donc mettre en oeuvre la méthode des rectangles ou la méthode des trapèzes. Sachant que la méthode des trapèzes est plus précise, c'est cette dernière que l'on va mettre en oeuvre pour calculer l'intégrale. Dans le cas de points $(x_j)_{0\\leq j\\leq n}$ qui ne sont pas équirépartis sur $[0,T]$, la méthode des trapèzes s'écrit\n",
    "$$\n",
    "I_{n,\\textrm{Trapèzes non-équis}}(f,a,b) = \\sum_{j = 1}^{n} \\frac{f(x_{j-1}) + f(x_{j})}2 (x_j - x_{j-1}),\n",
    "$$\n",
    "\n",
    ">**A faire :** Écrire une fonction **Trapeze_Nequi** permettant de mettre en oeuvre la méthode des trapèzes pour calculer l'intégrale d'une fonction $f$ en des points qui ne sont pas équirépartis. Cette fonction prendra en argument d'entrée le vecteur $F$ tel que $F_j = f(x_j)$, pour $0\\leq j\\leq n$, ainsi que le vecteur $X$ des points $(x_j)_{0\\leq j\\leq n}$. Elle donnera en sortie une approximation de l'intégrale de $f$ sur l'intervalle $[x_0,x_n]$."
   ]
  },
  {
   "cell_type": "code",
   "execution_count": 14,
   "metadata": {},
   "outputs": [],
   "source": [
    "def Trapeze_Nequi(F,X):\n",
    "    # Fonction renvoyant le calcul de l'intégrale par la méthode des trapèzes\n",
    "    # F (array de taille n): valeurs de la fonction aux différentes positions X\n",
    "    # X (array de taille n): points d'échantillonnage du signal aléatoire\n",
    "    return np.sum([(X[j+1]-X[j])*(F[j]+F[j+1])/2. for j in range(X.shape[0]-1)])"
   ]
  },
  {
   "cell_type": "markdown",
   "metadata": {},
   "source": [
    ">**A faire :** Tracer, sur une même figure, le signal $s$ que vous aurez simulé ainsi $m$ que vous calculerez grâce à une approximation de l'intégrale de $s$ obtenue par la méthode des trapèzes."
   ]
  },
  {
   "cell_type": "code",
   "execution_count": 15,
   "metadata": {},
   "outputs": [
    {
     "data": {
      "image/png": "[encoded data removed]",
      "text/plain": [
       "<Figure size 432x288 with 1 Axes>"
      ]
     },
     "metadata": {
      "needs_background": "light"
     },
     "output_type": "display_data"
    },
    {
     "name": "stdout",
     "output_type": "stream",
     "text": [
      "Estimation de la moyenne: -0.9417424318669543\n"
     ]
    }
   ],
   "source": [
    "# Il est important de comprendre qu'ici on calcule l'intégrale m(t) pour différentes valeurs de t.\n",
    "# La borne supérieure de l'intégrale augmente donc avec t.\n",
    "# Cela revient à calculer du signal pour différentes valeurs de t.\n",
    "# Pour des petites valeurs de t, l'estimation est donc mauvaise, puis au fur et à mesure et que t augmente, l'estimation s'affine et m bouge de moins en moins.\n",
    "\n",
    "m=np.zeros(s.shape[0])\n",
    "for i in range(s.shape[0]):\n",
    "    m[i]=Trapeze_Nequi(s[:i],T[:i])/T[i]\n",
    "plt.plot(T,s,label='s')\n",
    "plt.plot(T,m,label='m')\n",
    "plt.legend()\n",
    "plt.xlabel('t')\n",
    "plt.show()\n",
    "print(\"Estimation de la moyenne:\",m[-1])"
   ]
  },
  {
   "cell_type": "code",
   "execution_count": null,
   "metadata": {},
   "outputs": [],
   "source": []
  }
 ],
 "metadata": {
  "anaconda-cloud": {},
  "kernelspec": {
   "display_name": "Python 3",
   "language": "python",
   "name": "python3"
  },
  "language_info": {
   "codemirror_mode": {
    "name": "ipython",
    "version": 3
   },
   "file_extension": ".py",
   "mimetype": "text/x-python",
   "name": "python",
   "nbconvert_exporter": "python",
   "pygments_lexer": "ipython3",
   "version": "3.7.4"
  }
 },
 "nbformat": 4,
 "nbformat_minor": 1
}
